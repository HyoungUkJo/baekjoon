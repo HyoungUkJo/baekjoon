{
 "cells": [
  {
   "cell_type": "code",
   "execution_count": 122,
   "metadata": {},
   "outputs": [
    {
     "name": "stdout",
     "output_type": "stream",
     "text": [
      "2\n",
      "1\n"
     ]
    }
   ],
   "source": [
    "N = int(input())\n",
    "num = list(map(int,input().split()))\n",
    "\n",
    "count=0\n",
    "for a in range(N) :\n",
    "    flag = 0\n",
    "    i=num[a]\n",
    "    print(i)\n",
    "    if i<=1:\n",
    "        continue\n",
    "    elif i==2 :\n",
    "        flag=1\n",
    "    for j in range(2,i) :\n",
    "        if i % j == 0:\n",
    "            flag=0\n",
    "            break\n",
    "        else:\n",
    "            flag=1\n",
    "    if flag==1 : \n",
    "        count+=1  \n",
    "\n",
    "print(count)"
   ]
  },
  {
   "cell_type": "code",
   "execution_count": 115,
   "metadata": {},
   "outputs": [
    {
     "ename": "ValueError",
     "evalue": "invalid literal for int() with base 10: ''",
     "output_type": "error",
     "traceback": [
      "\u001b[0;31m---------------------------------------------------------------------------\u001b[0m",
      "\u001b[0;31mValueError\u001b[0m                                Traceback (most recent call last)",
      "Cell \u001b[0;32mIn[115], line 8\u001b[0m\n\u001b[1;32m      6\u001b[0m         \u001b[39mreturn\u001b[39;00m \u001b[39m1\u001b[39m\n\u001b[1;32m      7\u001b[0m     \u001b[39mreturn\u001b[39;00m n\u001b[39m*\u001b[39mfacto(n\u001b[39m-\u001b[39m\u001b[39m1\u001b[39m)\n\u001b[0;32m----> 8\u001b[0m N \u001b[39m=\u001b[39m \u001b[39mint\u001b[39;49m(\u001b[39minput\u001b[39;49m())\n\u001b[1;32m     10\u001b[0m result \u001b[39m=\u001b[39m facto(N)\n\u001b[1;32m     11\u001b[0m \u001b[39mprint\u001b[39m(result)\n",
      "\u001b[0;31mValueError\u001b[0m: invalid literal for int() with base 10: ''"
     ]
    }
   ],
   "source": [
    "##팩토리얼 문제 풀이법\n",
    "# 먼저 입력된 수에서 1을 뺀 수만큼 반복\n",
    "# 재귀를 써서 풀이 가능할듯\n",
    "def facto(n) :\n",
    "    if n<=1 :\n",
    "        return 1\n",
    "    return n*facto(n-1)\n",
    "N = int(input())\n",
    "\n",
    "result = facto(N)\n",
    "print(result)\n"
   ]
  },
  {
   "cell_type": "code",
   "execution_count": 113,
   "metadata": {},
   "outputs": [
    {
     "name": "stdout",
     "output_type": "stream",
     "text": [
      "0\n"
     ]
    }
   ],
   "source": [
    "N = int(input())\n",
    "num = list(map(int,input().split()))\n",
    "\n",
    "count=0\n",
    "for a in range(N) :\n",
    "    flag = 0\n",
    "\n",
    "    i=num[a]\n",
    "    if i<=1:\n",
    "        continue\n",
    "    for j in range(2,i) :\n",
    "        if i % j == 0:\n",
    "            flag=0\n",
    "            break\n",
    "        else:\n",
    "            flag=1\n",
    "    if flag==1 : \n",
    "        count+=1  \n",
    "\n",
    "print(count)"
   ]
  },
  {
   "cell_type": "code",
   "execution_count": 105,
   "metadata": {},
   "outputs": [
    {
     "ename": "ValueError",
     "evalue": "invalid literal for int() with base 10: ''",
     "output_type": "error",
     "traceback": [
      "\u001b[0;31m---------------------------------------------------------------------------\u001b[0m",
      "\u001b[0;31mValueError\u001b[0m                                Traceback (most recent call last)",
      "Cell \u001b[0;32mIn[105], line 1\u001b[0m\n\u001b[0;32m----> 1\u001b[0m N \u001b[39m=\u001b[39m \u001b[39mint\u001b[39;49m(\u001b[39minput\u001b[39;49m())\n\u001b[1;32m      2\u001b[0m num \u001b[39m=\u001b[39m \u001b[39mmap\u001b[39m(\u001b[39mint\u001b[39m,\u001b[39minput\u001b[39m()\u001b[39m.\u001b[39msplit())\n\u001b[1;32m      3\u001b[0m sosu \u001b[39m=\u001b[39m \u001b[39m0\u001b[39m\n",
      "\u001b[0;31mValueError\u001b[0m: invalid literal for int() with base 10: ''"
     ]
    }
   ],
   "source": [
    "N = int(input())\n",
    "num = map(int,input().split())\n",
    "sosu = 0\n",
    "for i in num :\n",
    "    hap =0\n",
    "    if i<=1:\n",
    "        continue\n",
    "    for j in range(2,(i/2)+1) :\n",
    "        if i%j==0 :\n",
    "            hap+=1\n",
    "    if hap == 1 :\n",
    "        sosu +=1\n",
    "print(sosu)    \n"
   ]
  },
  {
   "cell_type": "code",
   "execution_count": 48,
   "metadata": {},
   "outputs": [
    {
     "name": "stdout",
     "output_type": "stream",
     "text": [
      "aaasssddd\n"
     ]
    },
    {
     "ename": "ValueError",
     "evalue": "not enough values to unpack (expected 2, got 1)",
     "output_type": "error",
     "traceback": [
      "\u001b[0;31m---------------------------------------------------------------------------\u001b[0m",
      "\u001b[0;31mValueError\u001b[0m                                Traceback (most recent call last)",
      "Cell \u001b[0;32mIn[48], line 3\u001b[0m\n\u001b[1;32m      1\u001b[0m T \u001b[39m=\u001b[39m \u001b[39mint\u001b[39m(\u001b[39minput\u001b[39m())\n\u001b[1;32m      2\u001b[0m \u001b[39mfor\u001b[39;00m a \u001b[39min\u001b[39;00m \u001b[39mrange\u001b[39m(T):\n\u001b[0;32m----> 3\u001b[0m     R,S \u001b[39m=\u001b[39m \u001b[39minput\u001b[39m()\u001b[39m.\u001b[39msplit()\n\u001b[1;32m      4\u001b[0m     R\u001b[39m=\u001b[39m\u001b[39mint\u001b[39m(R)\n\u001b[1;32m      5\u001b[0m     P\u001b[39m=\u001b[39m\u001b[39m\"\u001b[39m\u001b[39m\"\u001b[39m\n",
      "\u001b[0;31mValueError\u001b[0m: not enough values to unpack (expected 2, got 1)"
     ]
    }
   ],
   "source": [
    "T = int(input())\n",
    "for a in range(T):\n",
    "    R,S = input().split()\n",
    "    R=int(R)\n",
    "    P=\"\"\n",
    "    for j in S :\n",
    "        str = j*R\n",
    "        P+=str\n",
    "    print(P)"
   ]
  },
  {
   "cell_type": "code",
   "execution_count": 49,
   "metadata": {},
   "outputs": [
    {
     "ename": "ValueError",
     "evalue": "invalid literal for int() with base 10: 'a'",
     "output_type": "error",
     "traceback": [
      "\u001b[0;31m---------------------------------------------------------------------------\u001b[0m",
      "\u001b[0;31mValueError\u001b[0m                                Traceback (most recent call last)",
      "Cell \u001b[0;32mIn[49], line 2\u001b[0m\n\u001b[1;32m      1\u001b[0m S \u001b[39m=\u001b[39m \u001b[39minput\u001b[39m()\n\u001b[0;32m----> 2\u001b[0m R \u001b[39m=\u001b[39m \u001b[39mint\u001b[39;49m(\u001b[39minput\u001b[39;49m())\n\u001b[1;32m      3\u001b[0m P\u001b[39m=\u001b[39m[]\n\u001b[1;32m      4\u001b[0m \u001b[39mprint\u001b[39m(\u001b[39mtype\u001b[39m(R))\n",
      "\u001b[0;31mValueError\u001b[0m: invalid literal for int() with base 10: 'a'"
     ]
    }
   ],
   "source": [
    "S = input()\n",
    "R = int(input())\n",
    "P=[]\n",
    "print(type(R))"
   ]
  },
  {
   "attachments": {},
   "cell_type": "markdown",
   "metadata": {},
   "source": [
    "S = input()\n",
    "R = int(input())\n",
    "P = []\n",
    "print(type(R))\n",
    "for i in range(len(S)):\n",
    "    for j in range(R) :\n",
    "        P.append(S[i])\n",
    "print(P)\n"
   ]
  },
  {
   "cell_type": "code",
   "execution_count": null,
   "metadata": {},
   "outputs": [],
   "source": []
  },
  {
   "cell_type": "code",
   "execution_count": null,
   "metadata": {},
   "outputs": [],
   "source": []
  },
  {
   "cell_type": "code",
   "execution_count": 50,
   "metadata": {},
   "outputs": [
    {
     "name": "stdout",
     "output_type": "stream",
     "text": [
      "555\n",
      "9\n"
     ]
    }
   ],
   "source": [
    "arr=list(map(int,input().split()))\n",
    "max_num = max(arr)\n",
    "print(max_num)\n",
    "print(arr.index(max_num)+1)"
   ]
  },
  {
   "cell_type": "code",
   "execution_count": 9,
   "metadata": {},
   "outputs": [
    {
     "name": "stdout",
     "output_type": "stream",
     "text": [
      "88\n",
      "8\n"
     ]
    }
   ],
   "source": [
    "arr = []\n",
    "for i in range(9) :\n",
    "    num = int(input())\n",
    "    arr.append(num)\n",
    "max_num = max(arr)\n",
    "max_index = arr.index(max_num)+1\n",
    "print(max_num)\n",
    "print(max_index)\n"
   ]
  },
  {
   "cell_type": "code",
   "execution_count": 16,
   "metadata": {},
   "outputs": [
    {
     "name": "stdout",
     "output_type": "stream",
     "text": [
      "15\n"
     ]
    }
   ],
   "source": [
    "def solve(a) :\n",
    "    sum =0 \n",
    "    for i in a:\n",
    "        sum+=i\n",
    "    return sum\n",
    "\n",
    "num = list(map(int,input().split()))\n",
    "print(solve(num))"
   ]
  },
  {
   "cell_type": "code",
   "execution_count": 18,
   "metadata": {},
   "outputs": [
    {
     "ename": "TypeError",
     "evalue": "ord() expected a character, but string of length 0 found",
     "output_type": "error",
     "traceback": [
      "\u001b[0;31m---------------------------------------------------------------------------\u001b[0m",
      "\u001b[0;31mTypeError\u001b[0m                                 Traceback (most recent call last)",
      "Cell \u001b[0;32mIn[18], line 3\u001b[0m\n\u001b[1;32m      1\u001b[0m a \u001b[39m=\u001b[39m \u001b[39minput\u001b[39m()\n\u001b[0;32m----> 3\u001b[0m \u001b[39mprint\u001b[39m(\u001b[39mord\u001b[39;49m(a))\n",
      "\u001b[0;31mTypeError\u001b[0m: ord() expected a character, but string of length 0 found"
     ]
    }
   ],
   "source": [
    "a = input()\n",
    "\n",
    "print(ord(a))"
   ]
  }
 ],
 "metadata": {
  "kernelspec": {
   "display_name": "Python 3",
   "language": "python",
   "name": "python3"
  },
  "language_info": {
   "codemirror_mode": {
    "name": "ipython",
    "version": 3
   },
   "file_extension": ".py",
   "mimetype": "text/x-python",
   "name": "python",
   "nbconvert_exporter": "python",
   "pygments_lexer": "ipython3",
   "version": "3.11.3"
  },
  "orig_nbformat": 4,
  "vscode": {
   "interpreter": {
    "hash": "aee8b7b246df8f9039afb4144a1f6fd8d2ca17a180786b69acc140d282b71a49"
   }
  }
 },
 "nbformat": 4,
 "nbformat_minor": 2
}
