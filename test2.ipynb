{
 "cells": [
  {
   "cell_type": "code",
   "execution_count": 7,
   "metadata": {},
   "outputs": [
    {
     "ename": "ValueError",
     "evalue": "max() arg is an empty sequence",
     "output_type": "error",
     "traceback": [
      "\u001b[0;31m---------------------------------------------------------------------------\u001b[0m",
      "\u001b[0;31mValueError\u001b[0m                                Traceback (most recent call last)",
      "Cell \u001b[0;32mIn[7], line 2\u001b[0m\n\u001b[1;32m      1\u001b[0m arr\u001b[39m=\u001b[39m\u001b[39mlist\u001b[39m(\u001b[39mmap\u001b[39m(\u001b[39mint\u001b[39m,\u001b[39minput\u001b[39m()\u001b[39m.\u001b[39msplit()))\n\u001b[0;32m----> 2\u001b[0m max_num \u001b[39m=\u001b[39m \u001b[39mmax\u001b[39;49m(arr)\n\u001b[1;32m      3\u001b[0m \u001b[39mprint\u001b[39m(max_num)\n\u001b[1;32m      4\u001b[0m \u001b[39mprint\u001b[39m(arr\u001b[39m.\u001b[39mindex(max_num)\u001b[39m+\u001b[39m\u001b[39m1\u001b[39m)\n",
      "\u001b[0;31mValueError\u001b[0m: max() arg is an empty sequence"
     ]
    }
   ],
   "source": [
    "arr=list(map(int,input().split()))\n",
    "max_num = max(arr)\n",
    "print(max_num)\n",
    "print(arr.index(max_num)+1)"
   ]
  },
  {
   "cell_type": "code",
   "execution_count": 9,
   "metadata": {},
   "outputs": [
    {
     "name": "stdout",
     "output_type": "stream",
     "text": [
      "88\n",
      "8\n"
     ]
    }
   ],
   "source": [
    "arr = []\n",
    "for i in range(9) :\n",
    "    num = int(input())\n",
    "    arr.append(num)\n",
    "max_num = max(arr)\n",
    "max_index = arr.index(max_num)+1\n",
    "print(max_num)\n",
    "print(max_index)\n"
   ]
  },
  {
   "cell_type": "code",
   "execution_count": 11,
   "metadata": {},
   "outputs": [
    {
     "ename": "TypeError",
     "evalue": "'list' object cannot be interpreted as an integer",
     "output_type": "error",
     "traceback": [
      "\u001b[0;31m---------------------------------------------------------------------------\u001b[0m",
      "\u001b[0;31mTypeError\u001b[0m                                 Traceback (most recent call last)",
      "Cell \u001b[0;32mIn[11], line 8\u001b[0m\n\u001b[1;32m      5\u001b[0m     \u001b[39mreturn\u001b[39;00m \u001b[39msum\u001b[39m\n\u001b[1;32m      7\u001b[0m num \u001b[39m=\u001b[39m \u001b[39mlist\u001b[39m(\u001b[39mmap\u001b[39m(\u001b[39mint\u001b[39m,\u001b[39minput\u001b[39m()\u001b[39m.\u001b[39msplit()))\n\u001b[0;32m----> 8\u001b[0m \u001b[39mprint\u001b[39m(solve(num))\n",
      "Cell \u001b[0;32mIn[11], line 3\u001b[0m, in \u001b[0;36msolve\u001b[0;34m(a)\u001b[0m\n\u001b[1;32m      1\u001b[0m \u001b[39mdef\u001b[39;00m \u001b[39msolve\u001b[39m(a) \u001b[39m-\u001b[39m\u001b[39m>\u001b[39m \u001b[39mint\u001b[39m :\n\u001b[1;32m      2\u001b[0m     \u001b[39msum\u001b[39m \u001b[39m=\u001b[39m\u001b[39m0\u001b[39m \n\u001b[0;32m----> 3\u001b[0m     \u001b[39mfor\u001b[39;00m i \u001b[39min\u001b[39;00m \u001b[39mrange\u001b[39;49m(a):\n\u001b[1;32m      4\u001b[0m         \u001b[39msum\u001b[39m\u001b[39m+\u001b[39m\u001b[39m=\u001b[39mi\n\u001b[1;32m      5\u001b[0m     \u001b[39mreturn\u001b[39;00m \u001b[39msum\u001b[39m\n",
      "\u001b[0;31mTypeError\u001b[0m: 'list' object cannot be interpreted as an integer"
     ]
    }
   ],
   "source": [
    "def solve(a:list) -> int :\n",
    "    sum =0 \n",
    "    for i in range(a):\n",
    "        sum+=i\n",
    "    return sum\n",
    "\n",
    "num = list(map(int,input().split()))\n",
    "print(solve(num))"
   ]
  }
 ],
 "metadata": {
  "kernelspec": {
   "display_name": "Python 3",
   "language": "python",
   "name": "python3"
  },
  "language_info": {
   "codemirror_mode": {
    "name": "ipython",
    "version": 3
   },
   "file_extension": ".py",
   "mimetype": "text/x-python",
   "name": "python",
   "nbconvert_exporter": "python",
   "pygments_lexer": "ipython3",
   "version": "3.11.3"
  },
  "orig_nbformat": 4,
  "vscode": {
   "interpreter": {
    "hash": "aee8b7b246df8f9039afb4144a1f6fd8d2ca17a180786b69acc140d282b71a49"
   }
  }
 },
 "nbformat": 4,
 "nbformat_minor": 2
}
