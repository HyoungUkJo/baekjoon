{
 "cells": [
  {
   "cell_type": "code",
   "execution_count": 9,
   "metadata": {},
   "outputs": [
    {
     "name": "stdout",
     "output_type": "stream",
     "text": [
      "F\n"
     ]
    }
   ],
   "source": [
    "score = int(input())\n",
    "\n",
    "if(score <60) :\n",
    "    print(\"F\") \n",
    "elif(score <70) :\n",
    "    print(\"D\")\n",
    "elif(score<80) :\n",
    "    print(\"C\")\n",
    "elif(score<90) :\n",
    "    print(\"B\")\n",
    "else:\n",
    "    print(\"A\")"
   ]
  },
  {
   "cell_type": "code",
   "execution_count": 14,
   "metadata": {},
   "outputs": [
    {
     "name": "stdout",
     "output_type": "stream",
     "text": [
      "7 85\n"
     ]
    }
   ],
   "source": [
    "max = 0\n",
    "arr = [3,29,38,12,57,74,40,85,61]\n",
    "\n",
    "for i,value in enumerate(arr) :\n",
    "    if value >max :\n",
    "        max = value\n",
    "        max_index = i+1\n",
    "print(max_index,max)"
   ]
  },
  {
   "cell_type": "code",
   "execution_count": 25,
   "metadata": {},
   "outputs": [
    {
     "name": "stdout",
     "output_type": "stream",
     "text": [
      "100\n",
      "9\n"
     ]
    }
   ],
   "source": [
    "arr=list(map(int,input().split()))\n",
    "\n",
    "max = 0\n",
    "\n",
    "for i,value in enumerate(arr) :\n",
    "    if value >max :\n",
    "        max = value\n",
    "        max_index = i+1\n",
    "print(max)\n",
    "print(max_index)"
   ]
  },
  {
   "cell_type": "code",
   "execution_count": 41,
   "metadata": {},
   "outputs": [
    {
     "name": "stdout",
     "output_type": "stream",
     "text": [
      "0\n",
      "1\n"
     ]
    }
   ],
   "source": [
    "arr=list(map(int,input('/n').split()))\n",
    "\n",
    "max = 0\n",
    "j=1\n",
    "for i in arr :\n",
    "    if i > max :\n",
    "        max = i\n",
    "        index = j\n",
    "    j +=1 \n",
    "print(max)\n",
    "print(index)"
   ]
  },
  {
   "cell_type": "code",
   "execution_count": 39,
   "metadata": {},
   "outputs": [
    {
     "ename": "TypeError",
     "evalue": "'int' object is not callable",
     "output_type": "error",
     "traceback": [
      "\u001b[0;31m---------------------------------------------------------------------------\u001b[0m",
      "\u001b[0;31mTypeError\u001b[0m                                 Traceback (most recent call last)",
      "Cell \u001b[0;32mIn[39], line 2\u001b[0m\n\u001b[1;32m      1\u001b[0m arr\u001b[39m=\u001b[39m\u001b[39mlist\u001b[39m(\u001b[39mmap\u001b[39m(\u001b[39mint\u001b[39m,\u001b[39minput\u001b[39m()\u001b[39m.\u001b[39msplit()))\n\u001b[0;32m----> 2\u001b[0m max_num \u001b[39m=\u001b[39m \u001b[39mmax\u001b[39;49m(arr)\n\u001b[1;32m      3\u001b[0m \u001b[39mprint\u001b[39m(max_num)\n\u001b[1;32m      4\u001b[0m \u001b[39mprint\u001b[39m(arr\u001b[39m.\u001b[39mindex(max_num)\u001b[39m+\u001b[39m\u001b[39m1\u001b[39m)\n",
      "\u001b[0;31mTypeError\u001b[0m: 'int' object is not callable"
     ]
    }
   ],
   "source": [
    "arr=list(map(int,input().split()))\n",
    "max_num = max(arr)\n",
    "print(max_num)\n",
    "print(arr.index(max_num)+1)"
   ]
  },
  {
   "cell_type": "code",
   "execution_count": null,
   "metadata": {},
   "outputs": [],
   "source": [
    "3\n",
    "29\n",
    "38\n",
    "12\n",
    "57\n",
    "74\n",
    "40\n",
    "85\n",
    "61"
   ]
  }
 ],
 "metadata": {
  "kernelspec": {
   "display_name": "Python 3",
   "language": "python",
   "name": "python3"
  },
  "language_info": {
   "codemirror_mode": {
    "name": "ipython",
    "version": 3
   },
   "file_extension": ".py",
   "mimetype": "text/x-python",
   "name": "python",
   "nbconvert_exporter": "python",
   "pygments_lexer": "ipython3",
   "version": "3.9.6"
  },
  "orig_nbformat": 4,
  "vscode": {
   "interpreter": {
    "hash": "31f2aee4e71d21fbe5cf8b01ff0e069b9275f58929596ceb00d14d90e3e16cd6"
   }
  }
 },
 "nbformat": 4,
 "nbformat_minor": 2
}
