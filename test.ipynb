{
 "cells": [
  {
   "cell_type": "code",
   "execution_count": 156,
   "metadata": {},
   "outputs": [
    {
     "name": "stdout",
     "output_type": "stream",
     "text": [
      "0\n",
      "1 3\n"
     ]
    }
   ],
   "source": [
    "\"\"\" \n",
    "하노이탑풀이\n",
    "1. 현재 내 위치를 확인 할 줄알아야함.\n",
    "2. 나는 결국은 통으로 위에 있는 친구들을 옮겨야함.\n",
    "3. 재귀로 스택에 print가 쌓아지는 방식으로 가보자\n",
    "\n",
    "\"\"\"\n",
    "\n",
    "def hano(no,now,after) :\n",
    "\n",
    "    if no == 0 :\n",
    "        print(\"0 0\")\n",
    "\n",
    "    if no >1 :\n",
    "        hano(no-1, now,6-now-after)\n",
    "    \n",
    "    # print(f'{no}번째 원반 {now}에서 {after}로 이동')\n",
    "    print(now,after)\n",
    "    \n",
    "    if no >1 :\n",
    "        hano(no-1, 6-now-after,after)\n",
    "\n",
    "def hano_culc(n) :\n",
    "    if n <=1:\n",
    "        return n\n",
    "    elif n>1:\n",
    "        return hano_culc(n-1)*2+1\n",
    "    \n",
    "N= int(input())\n",
    "\n",
    "if N>=20 :\n",
    "    print(hano_culc(N))\n",
    "    # print((N-1)**2+1)\n",
    "else:\n",
    "    print(hano_culc(N))\n",
    "    hano(N,1,3)\n",
    "    \n",
    "\n",
    "\n"
   ]
  },
  {
   "cell_type": "code",
   "execution_count": null,
   "metadata": {},
   "outputs": [],
   "source": [
    "#quick sort\n",
    "# 가운데 값을 기준으로 한다.\n",
    "# 가운데 값을 기준으로 첫번째 값과 마지막 값을 중간 값과 비교해서 교환한다.\n",
    "# \n",
    "N = int(input)\n",
    "\n",
    "arr=[]\n",
    "\n",
    "for i in range(N):\n",
    "    arr.append(int(input()))\n",
    "\n",
    "pl = 0\n",
    "pr = N-1\n",
    "\n",
    "x = N//2\n",
    "\n"
   ]
  },
  {
   "cell_type": "code",
   "execution_count": 147,
   "metadata": {},
   "outputs": [
    {
     "name": "stdout",
     "output_type": "stream",
     "text": [
      "[[1, 2], [3, 4]]\n",
      "1\n"
     ]
    }
   ],
   "source": [
    "N = int(input())\n",
    "\n",
    "cost = [list(map(int,input().split())) for _ in range(N)]\n",
    "\n",
    "print(cost)\n",
    "print(cost[0][0])"
   ]
  },
  {
   "cell_type": "code",
   "execution_count": 145,
   "metadata": {},
   "outputs": [
    {
     "ename": "ValueError",
     "evalue": "invalid literal for int() with base 10: ''",
     "output_type": "error",
     "traceback": [
      "\u001b[0;31m---------------------------------------------------------------------------\u001b[0m",
      "\u001b[0;31mValueError\u001b[0m                                Traceback (most recent call last)",
      "Cell \u001b[0;32mIn[145], line 35\u001b[0m\n\u001b[1;32m     31\u001b[0m                 min_index \u001b[39m=\u001b[39m j\n\u001b[1;32m     32\u001b[0m         a[i], a[min_index] \u001b[39m=\u001b[39m a[min_index], a[i]\n\u001b[0;32m---> 35\u001b[0m N\u001b[39m=\u001b[39m\u001b[39mint\u001b[39;49m(\u001b[39minput\u001b[39;49m())\n\u001b[1;32m     36\u001b[0m x \u001b[39m=\u001b[39m [\u001b[39mNone\u001b[39;00m] \u001b[39m*\u001b[39m N\n\u001b[1;32m     38\u001b[0m \u001b[39mfor\u001b[39;00m i \u001b[39min\u001b[39;00m \u001b[39mrange\u001b[39m(N) :\n",
      "\u001b[0;31mValueError\u001b[0m: invalid literal for int() with base 10: ''"
     ]
    }
   ],
   "source": [
    "\"\"\" \n",
    "문제\n",
    "알파벳 소문자로 이루어진 N개의 단어가 들어오면 아래와 같은 조건에 따라 정렬하는 프로그램을 작성하시오.\n",
    "\n",
    "길이가 짧은 것부터\n",
    "길이가 같으면 사전 순으로\n",
    "단, 중복된 단어는 하나만 남기고 제거해야 한다.\n",
    "\n",
    "입력\n",
    "첫째 줄에 단어의 개수 N이 주어진다. (1 ≤ N ≤ 20,000) 둘째 줄부터 N개의 줄에 걸쳐 알파벳 소문자로 이루어진 단어가 한 줄에 하나씩 주어진다. 주어지는 문자열의 길이는 50을 넘지 않는다.\n",
    "\n",
    "출력\n",
    "조건에 따라 정렬하여 단어들을 출력한다.\n",
    "\n",
    "\"\"\"\n",
    "\n",
    "# 입력된 문자열의 길이를 저장하는 배열 생성\n",
    "# 배열의 크기에 맞게 insort()함수를 이용해서 정렬\n",
    "# -> 삽입 정렬은 이미 정렬된 데이터 속에서 사용할 때 유용함으로 선택정렬을 하는게 유용할듯!! (욱현님 의견)\n",
    "# 삽입정렬으로 처음에 최초값을 최소로정하고 이후에 들어온 값을 비교해서 정렬할 수 있게\n",
    "# 나의 뜨거운 마음을~ 불같은 나의 마음을 보여주겠습니다!\n",
    "\n",
    "from typing import MutableSequence\n",
    "def selection_sort(a: MutableSequence) :\n",
    "    n = len(a)\n",
    "    for i in range(0,n-1):\n",
    "        min_index = i\n",
    "        for j in range(i+1,n-1):\n",
    "            print(a[j],a[min_index])\n",
    "            if len(a[j]) < len(a[min_index]) :\n",
    "                min_index = j\n",
    "        a[i], a[min_index] = a[min_index], a[i]\n",
    "\n",
    "\n",
    "N=int(input())\n",
    "x = [None] * N\n",
    "\n",
    "for i in range(N) :\n",
    "    munza = input()\n",
    "    for j in range(i) :\n",
    "        if munza==x[j] :\n",
    "            print(\"why??\")\n",
    "            continue\n",
    "        x[i] = munza\n",
    "print(x)\n",
    "selection_sort(x)\n",
    "\n",
    "# print(x)\n",
    "\n"
   ]
  },
  {
   "cell_type": "code",
   "execution_count": 126,
   "metadata": {},
   "outputs": [
    {
     "name": "stdout",
     "output_type": "stream",
     "text": [
      "버블 정렬을 수행합니다.\n"
     ]
    },
    {
     "ename": "ValueError",
     "evalue": "invalid literal for int() with base 10: ''",
     "output_type": "error",
     "traceback": [
      "\u001b[0;31m---------------------------------------------------------------------------\u001b[0m",
      "\u001b[0;31mValueError\u001b[0m                                Traceback (most recent call last)",
      "Cell \u001b[0;32mIn[126], line 14\u001b[0m\n\u001b[1;32m     12\u001b[0m \u001b[39mif\u001b[39;00m \u001b[39m__name__\u001b[39m \u001b[39m==\u001b[39m \u001b[39m'\u001b[39m\u001b[39m__main__\u001b[39m\u001b[39m'\u001b[39m :\n\u001b[1;32m     13\u001b[0m     \u001b[39mprint\u001b[39m(\u001b[39m'\u001b[39m\u001b[39m버블 정렬을 수행합니다.\u001b[39m\u001b[39m'\u001b[39m)\n\u001b[0;32m---> 14\u001b[0m     num\u001b[39m=\u001b[39m\u001b[39mint\u001b[39;49m(\u001b[39minput\u001b[39;49m(\u001b[39m'\u001b[39;49m\u001b[39m원소 수를 입력하세요:\u001b[39;49m\u001b[39m'\u001b[39;49m))\n\u001b[1;32m     15\u001b[0m     x \u001b[39m=\u001b[39m [\u001b[39mNone\u001b[39;00m] \u001b[39m*\u001b[39m num\n\u001b[1;32m     17\u001b[0m     \u001b[39mfor\u001b[39;00m i \u001b[39min\u001b[39;00m \u001b[39mrange\u001b[39m(num) :\n",
      "\u001b[0;31mValueError\u001b[0m: invalid literal for int() with base 10: ''"
     ]
    }
   ],
   "source": [
    "# 버블 알고리즘\n",
    "\n",
    "from typing import MutableSequence\n",
    "\n",
    "def bubble_sort(a: MutableSequence) -> None :\n",
    "    n = len(a)\n",
    "    for i in range(n-1):\n",
    "        for j in range(n-1,i,-1) :\n",
    "            if a[j-1] >a[j] :\n",
    "                a[j-1], a[j] = a[j], a[j-1]\n",
    "            \n",
    "if __name__ == '__main__' :\n",
    "    print('버블 정렬을 수행합니다.')\n",
    "    num=int(input('원소 수를 입력하세요:'))\n",
    "    x = [None] * num\n",
    "\n",
    "    for i in range(num) :\n",
    "        x[i] = int(input(f'x[{i}]: '))\n",
    "\n",
    "    bubble_sort(x)\n",
    "\n",
    "    print('오름차순으로 정렬했습니다.')\n",
    "    for i in range(num) :\n",
    "        print(f'x[{i}] = {x[i]}')"
   ]
  },
  {
   "cell_type": "code",
   "execution_count": 124,
   "metadata": {},
   "outputs": [
    {
     "name": "stdout",
     "output_type": "stream",
     "text": [
      "버블 정렬을 수행합니다.\n",
      "패스1\n",
      " 6   4   3   7   1   9 + 8\n",
      " 6   4   3   7   1 - 8   9\n",
      " 6   4   3   7 + 1   8   9\n",
      " 6   4   3 + 1   7   8   9\n",
      " 6   4 + 1   3   7   8   9\n",
      " 6 + 1   4   3   7   8   9\n",
      " 1   6   4   3   7   8   9\n",
      "패스2\n",
      " 1   6   4   3   7   8 - 9\n",
      " 1   6   4   3   7 - 8   9\n",
      " 1   6   4   3 - 7   8   9\n",
      " 1   6   4 + 3   7   8   9\n",
      " 1   6 + 3   4   7   8   9\n",
      " 1   3   6   4   7   8   9\n",
      "패스3\n",
      " 1   3   6   4   7   8 - 9\n",
      " 1   3   6   4   7 - 8   9\n",
      " 1   3   6   4 - 7   8   9\n",
      " 1   3   6 + 4   7   8   9\n",
      " 1   3   4   6   7   8   9\n",
      "패스4\n",
      " 1   3   4   6   7   8 - 9\n",
      " 1   3   4   6   7 - 8   9\n",
      " 1   3   4   6 - 7   8   9\n",
      " 1   3   4   6   7   8   9\n",
      "패스5\n",
      " 1   3   4   6   7   8 - 9\n",
      " 1   3   4   6   7 - 8   9\n",
      " 1   3   4   6   7   8   9\n",
      "패스6\n",
      " 1   3   4   6   7   8 - 9\n",
      " 1   3   4   6   7   8   9\n",
      "비교를 21번 했습니다.\n",
      "교환를 8번 했습니다.\n",
      "오름차순으로 정렬했습니다.\n",
      "x[0] = 1\n",
      "x[1] = 3\n",
      "x[2] = 4\n",
      "x[3] = 6\n",
      "x[4] = 7\n",
      "x[5] = 8\n",
      "x[6] = 9\n"
     ]
    }
   ],
   "source": [
    "# 버블 알고리즘\n",
    "\n",
    "from typing import MutableSequence\n",
    "\n",
    "def bubble_sort(a: MutableSequence) -> None :\n",
    "    \"\"\" 버블 정렬 과정을 출력 \"\"\"\n",
    "    ccnt = 0    #비교횟수\n",
    "    scnt = 0    #교환횟수\n",
    "    n = len(a)\n",
    "    for i in range(n-1):\n",
    "        print(f'패스{i+1}')\n",
    "        for j in range(n-1,i,-1) :\n",
    "            for m in range(0,n-1):\n",
    "                print(f'{a[m]:2}' + ('  ' if m != j - 1 else\n",
    "                                    ' +' if a[j - 1] > a[j] else ' -'), \n",
    "                                    end='')\n",
    "            print(f'{a[n-1]:2}')\n",
    "            ccnt+=1\n",
    "            if a[j-1] >a[j] :\n",
    "                scnt +=1\n",
    "                a[j-1], a[j] = a[j], a[j-1]\n",
    "        for m in range(0,n-1):\n",
    "            print(f'{a[m]:2}',end='  ')\n",
    "        print(f'{a[n-1]:2}')\n",
    "    print(f'비교를 {ccnt}번 했습니다.')\n",
    "    print(f'교환를 {scnt}번 했습니다.')\n",
    "if __name__ == '__main__' :\n",
    "    print('버블 정렬을 수행합니다.')\n",
    "    num=int(input('원소 수를 입력하세요:'))\n",
    "    x = [None] * num\n",
    "\n",
    "    for i in range(num) :\n",
    "        x[i] = int(input(f'x[{i}]: '))\n",
    "\n",
    "    bubble_sort(x)\n",
    "\n",
    "    print('오름차순으로 정렬했습니다.')\n",
    "    for i in range(num) :\n",
    "        print(f'x[{i}] = {x[i]}')"
   ]
  },
  {
   "cell_type": "code",
   "execution_count": 117,
   "metadata": {},
   "outputs": [
    {
     "ename": "SyntaxError",
     "evalue": "invalid syntax (1016657425.py, line 9)",
     "output_type": "error",
     "traceback": [
      "\u001b[0;36m  Cell \u001b[0;32mIn[117], line 9\u001b[0;36m\u001b[0m\n\u001b[0;31m    for i range(n-1,k,-1) :\u001b[0m\n\u001b[0m          ^\u001b[0m\n\u001b[0;31mSyntaxError\u001b[0m\u001b[0;31m:\u001b[0m invalid syntax\n"
     ]
    }
   ],
   "source": [
    "# 버블 알고리즘\n",
    "\n",
    "from typing import MutableSequence\n",
    "\n",
    "def bubble_sort(a: MutableSequence) -> None :\n",
    "    n = len(a)\n",
    "    k = 0\n",
    "    while k < n-1:\n",
    "        for i range(n-1,k,-1) :\n",
    "            if a[i-1] > a[i] :\n",
    "                a[i-1], a[i] = a[i], a[i-1]\n",
    "                last=i\n",
    "        k=last\n",
    "            \n",
    "            \n",
    "            \n",
    "if __name__ == '__main__' :\n",
    "    print('버블 정렬을 수행합니다.')\n",
    "    num=int(input('원소 수를 입력하세요:'))\n",
    "    x = [None] * num\n",
    "\n",
    "    for i in range(num) :\n",
    "        x[i] = int(input(f'x[{i}]: '))\n",
    "\n",
    "    bubble_sort(x)\n",
    "\n",
    "    print('오름차순으로 정렬했습니다.')\n",
    "    for i in range(num) :\n",
    "        print(f'x[{i}] = {x[i]}')"
   ]
  },
  {
   "cell_type": "code",
   "execution_count": 107,
   "metadata": {},
   "outputs": [
    {
     "ename": "ValueError",
     "evalue": "invalid literal for int() with base 10: ''",
     "output_type": "error",
     "traceback": [
      "\u001b[0;31m---------------------------------------------------------------------------\u001b[0m",
      "\u001b[0;31mValueError\u001b[0m                                Traceback (most recent call last)",
      "Cell \u001b[0;32mIn[107], line 11\u001b[0m\n\u001b[1;32m      1\u001b[0m \u001b[39m\"\"\" \u001b[39;00m\n\u001b[1;32m      2\u001b[0m \u001b[39m문제\u001b[39;00m\n\u001b[1;32m      3\u001b[0m \u001b[39mN개의 수가 주어졌을 때, 이를 오름차순으로 정렬하는 프로그램을 작성하시오.\u001b[39;00m\n\u001b[0;32m   (...)\u001b[0m\n\u001b[1;32m      9\u001b[0m \u001b[39m첫째 줄부터 N개의 줄에 오름차순으로 정렬한 결과를 한 줄에 하나씩 출력한다.\u001b[39;00m\n\u001b[1;32m     10\u001b[0m \u001b[39m\"\"\"\u001b[39;00m\n\u001b[0;32m---> 11\u001b[0m N\u001b[39m=\u001b[39m\u001b[39mint\u001b[39;49m(\u001b[39minput\u001b[39;49m())\n\u001b[1;32m     13\u001b[0m arr\u001b[39m=\u001b[39m[]\n\u001b[1;32m     14\u001b[0m \u001b[39mfor\u001b[39;00m _ \u001b[39min\u001b[39;00m \u001b[39mrange\u001b[39m(N) :\n",
      "\u001b[0;31mValueError\u001b[0m: invalid literal for int() with base 10: ''"
     ]
    }
   ],
   "source": [
    "\"\"\" \n",
    "문제\n",
    "N개의 수가 주어졌을 때, 이를 오름차순으로 정렬하는 프로그램을 작성하시오.\n",
    "\n",
    "입력\n",
    "첫째 줄에 수의 개수 N(1 ≤ N ≤ 1,000)이 주어진다. 둘째 줄부터 N개의 줄에는 수가 주어진다. 이 수는 절댓값이 1,000보다 작거나 같은 정수이다. 수는 중복되지 않는다.\n",
    "\n",
    "출력\n",
    "첫째 줄부터 N개의 줄에 오름차순으로 정렬한 결과를 한 줄에 하나씩 출력한다.\n",
    "\"\"\"\n",
    "N=int(input())\n",
    "\n",
    "arr=[]\n",
    "for _ in range(N) :\n",
    "    num = int(input())\n",
    "    arr.append(num)\n",
    "arr.sort()\n",
    "for i in arr :\n",
    "    print(i)\n",
    "\"\"\" \n",
    "문제\n",
    "N개의 수가 주어졌을 때, 이를 오름차순으로 정렬하는 프로그램을 작성하시오.\n",
    "\n",
    "입력\n",
    "첫째 줄에 수의 개수 N(1 ≤ N ≤ 1,000)이 주어진다. 둘째 줄부터 N개의 줄에는 수가 주어진다. 이 수는 절댓값이 1,000보다 작거나 같은 정수이다. 수는 중복되지 않는다.\n",
    "\n",
    "출력\n",
    "첫째 줄부터 N개의 줄에 오름차순으로 정렬한 결과를 한 줄에 하나씩 출력한다.\n",
    "\"\"\"\n",
    "N=int(input())\n",
    "\n",
    "arr=[]\n",
    "for _ in range(N) :\n",
    "    num = int(input())\n",
    "    arr.append(num)\n",
    "arr.sort()\n",
    "for i in arr :\n",
    "    print(i)\n",
    "\"\"\" \n",
    "for i in range(1,N) :\n",
    "    change=0\n",
    "    if arr[i-1] > arr[i] :\n",
    "        change = arr[i-1]\n",
    "        arr[i-1] =arr[i]\n",
    "        arr[i]=change\n",
    "    print(arr)     \"\"\"\n"
   ]
  },
  {
   "cell_type": "code",
   "execution_count": 97,
   "metadata": {},
   "outputs": [
    {
     "name": "stdout",
     "output_type": "stream",
     "text": [
      "-1\n",
      "-1\n",
      "23\n",
      "23\n",
      "-1\n",
      "-1\n"
     ]
    }
   ],
   "source": [
    "\"\"\" \n",
    "정수를 저장하는 스택을 구현한 다음, 입력으로 주어지는 명령을 처리하는 프로그램을 작성하시오.\n",
    "\n",
    "명령은 총 다섯 가지이다.\n",
    "\n",
    "push X: 정수 X를 스택에 넣는 연산이다.\n",
    "pop: 스택에서 가장 위에 있는 정수를 빼고, 그 수를 출력한다. 만약 스택에 들어있는 정수가 없는 경우에는 -1을 출력한다.\n",
    "size: 스택에 들어있는 정수의 개수를 출력한다.\n",
    "empty: 스택이 비어있으면 1, 아니면 0을 출력한다.\n",
    "top: 스택의 가장 위에 있는 정수를 출력한다. 만약 스택에 들어있는 정수가 없는 경우에는 -1을 출력한다.\n",
    "\"\"\"\n",
    "\n",
    "#\n",
    "N = int(input())\n",
    "stack = []\n",
    "for i in range(N):\n",
    "    command = input().split()\n",
    "    if command[0] == \"push\" :\n",
    "        stack.append(int(command[1]))\n",
    "    \n",
    "    elif command[0] == \"pop\" :\n",
    "        if len(stack) == 0 :\n",
    "            print(\"-1\")\n",
    "        else :\n",
    "            print(stack.pop())\n",
    "    \n",
    "    elif command[0] == \"size\" :\n",
    "        print(len(stack))\n",
    "    \n",
    "    elif command[0] == \"empty\" :\n",
    "        if len(stack) == 0 :\n",
    "            print(\"1\")\n",
    "        else:\n",
    "            print(\"0\")\n",
    "    elif command[0] == \"top\" :\n",
    "        if len(stack) == 0 :\n",
    "            print(\"-1\")\n",
    "        else :\n",
    "            print(stack[len(stack)-1])\n",
    "\n",
    "    "
   ]
  },
  {
   "cell_type": "code",
   "execution_count": 91,
   "metadata": {},
   "outputs": [
    {
     "name": "stdout",
     "output_type": "stream",
     "text": [
      "3 5\n"
     ]
    }
   ],
   "source": [
    "import math\n",
    "#소수인지 판별하는 함수\n",
    "def isPrime(a):\n",
    "  if(a<2):\n",
    "    return False\n",
    "  for i in range(2,a):\n",
    "    if(a%i==0):\n",
    "      return False\n",
    "  return True\n",
    "#판별한 소수를 리스트에 저장\n",
    "def savePrimes(num) :\n",
    "  prime=[]\n",
    "  for i in range(num+1):\n",
    "    if isPrime(i):\n",
    "      prime.append(i)\n",
    "  return prime\n",
    "#소수를 찾는 함수\n",
    "def find_Prime_sum(num) :\n",
    "  prime=[]\n",
    "  prime = savePrimes(num)\n",
    "  flag = 0\n",
    "  #소수의 절반만큼만 돌리기 위해서 사용\n",
    "  for i in range(int(math.sqrt(num)),0,-1) :\n",
    "    # print(int(math.sqrt(num)))\n",
    "    for j in range(int(math.sqrt(num)),0,-1) :\n",
    "      if prime[i] + prime[j] == num :\n",
    "        print(prime[j],prime[i])\n",
    "        flag =1\n",
    "        break\n",
    "    if flag==1:\n",
    "      break\n",
    "\n",
    "N=int(input())\n",
    "num = list(map(int,input().split()))\n",
    "# print(N)\n",
    "for i in num:\n",
    "  find_Prime_sum(i)\n",
    "\n"
   ]
  },
  {
   "cell_type": "code",
   "execution_count": null,
   "metadata": {},
   "outputs": [],
   "source": []
  },
  {
   "cell_type": "code",
   "execution_count": null,
   "metadata": {},
   "outputs": [],
   "source": [
    "def hano (n) :\n",
    "    if (n==1) :\n",
    "        return n\n",
    "    else:\n",
    "        return 2**(n-1)+hano(n-1)\n",
    "    \n",
    "N = int(input())\n",
    "if N >= 20 :\n",
    "    print(hano(N))"
   ]
  },
  {
   "cell_type": "code",
   "execution_count": null,
   "metadata": {},
   "outputs": [],
   "source": [
    "# 내가 N일때 내 위치가 1이면\n",
    "    #N-1은 2로가 나는 3으로갈게\n",
    "# 내 위치가 2이면\n",
    "    #N-1은 1로가 나는 3으로 갈게\n",
    "\n",
    "\n",
    "def move(n,now):\n",
    "    if n >1 :\n",
    "        after = 3-now\n",
    "        if now ==1 :\n",
    "            move(n-1,now=after)\n",
    "        elif now ==2 :\n",
    "            move(n-1, now=after)\n",
    "            \n",
    "        print(\"%d번블록 %d에서 %d으로 이동\" %(n,now,after))        \n",
    "\n",
    "\n",
    "    if n==1:\n",
    "        print(\"1번블록 %d번으로 이동 \")\n",
    "\n",
    "N=int(input())\n",
    "print(move(N,1))    "
   ]
  },
  {
   "cell_type": "code",
   "execution_count": null,
   "metadata": {},
   "outputs": [],
   "source": [
    "score = int(input())\n",
    "\n",
    "if(score <60) :\n",
    "    print(\"F\") \n",
    "elif(score <70) :\n",
    "    print(\"D\")\n",
    "elif(score<80) :\n",
    "    print(\"C\")\n",
    "elif(score<90) :\n",
    "    print(\"B\")\n",
    "else:\n",
    "    print(\"A\")"
   ]
  },
  {
   "cell_type": "code",
   "execution_count": null,
   "metadata": {},
   "outputs": [],
   "source": [
    "max = 0\n",
    "arr = [3,29,38,12,57,74,40,85,61]\n",
    "\n",
    "for i,value in enumerate(arr) :\n",
    "    if value >max :\n",
    "        max = value\n",
    "        max_index = i+1\n",
    "print(max_index,max)"
   ]
  },
  {
   "cell_type": "code",
   "execution_count": null,
   "metadata": {},
   "outputs": [],
   "source": [
    "arr=list(map(int,input().split()))\n",
    "\n",
    "max = 0\n",
    "\n",
    "for i,value in enumerate(arr) :\n",
    "    if value >max :\n",
    "        max = value\n",
    "        max_index = i+1\n",
    "print(max)\n",
    "print(max_index)"
   ]
  },
  {
   "cell_type": "code",
   "execution_count": null,
   "metadata": {},
   "outputs": [],
   "source": [
    "arr=list(map(int,input('/n').split()))\n",
    "\n",
    "max = 0\n",
    "j=1\n",
    "for i in arr :\n",
    "    if i > max :\n",
    "        max = i\n",
    "        index = j\n",
    "    j +=1 \n",
    "print(max)\n",
    "print(index)"
   ]
  },
  {
   "cell_type": "code",
   "execution_count": null,
   "metadata": {},
   "outputs": [],
   "source": [
    "arr=list(map(int,input().split()))\n",
    "max_num = max(arr)\n",
    "print(max_num)\n",
    "print(arr.index(max_num)+1)"
   ]
  },
  {
   "cell_type": "code",
   "execution_count": null,
   "metadata": {},
   "outputs": [],
   "source": [
    "3\n",
    "29\n",
    "38\n",
    "12\n",
    "57\n",
    "74\n",
    "40\n",
    "85\n",
    "61"
   ]
  }
 ],
 "metadata": {
  "kernelspec": {
   "display_name": "Python 3",
   "language": "python",
   "name": "python3"
  },
  "language_info": {
   "codemirror_mode": {
    "name": "ipython",
    "version": 3
   },
   "file_extension": ".py",
   "mimetype": "text/x-python",
   "name": "python",
   "nbconvert_exporter": "python",
   "pygments_lexer": "ipython3",
   "version": "3.9.6"
  },
  "orig_nbformat": 4,
  "vscode": {
   "interpreter": {
    "hash": "31f2aee4e71d21fbe5cf8b01ff0e069b9275f58929596ceb00d14d90e3e16cd6"
   }
  }
 },
 "nbformat": 4,
 "nbformat_minor": 2
}
